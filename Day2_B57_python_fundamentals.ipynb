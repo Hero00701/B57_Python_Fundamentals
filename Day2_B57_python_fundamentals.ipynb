{
 "cells": [
  {
   "cell_type": "code",
   "execution_count": 3,
   "id": "8ec725f4",
   "metadata": {},
   "outputs": [],
   "source": [
    "firstname ='Hamza'"
   ]
  },
  {
   "cell_type": "code",
   "execution_count": 5,
   "id": "17173cd5",
   "metadata": {},
   "outputs": [
    {
     "name": "stdout",
     "output_type": "stream",
     "text": [
      "Hamza\n"
     ]
    }
   ],
   "source": [
    "print(firstname)"
   ]
  },
  {
   "cell_type": "code",
   "execution_count": 6,
   "id": "b98f3ea8",
   "metadata": {},
   "outputs": [
    {
     "ename": "SyntaxError",
     "evalue": "invalid syntax (Temp/ipykernel_28256/1362577850.py, line 1)",
     "output_type": "error",
     "traceback": [
      "\u001b[1;36m  File \u001b[1;32m\"C:\\Users\\HP\\AppData\\Local\\Temp/ipykernel_28256/1362577850.py\"\u001b[1;36m, line \u001b[1;32m1\u001b[0m\n\u001b[1;33m    first name= Md Hamza Omer\u001b[0m\n\u001b[1;37m          ^\u001b[0m\n\u001b[1;31mSyntaxError\u001b[0m\u001b[1;31m:\u001b[0m invalid syntax\n"
     ]
    }
   ],
   "source": [
    "first name= Md Hamza Omer  #made a mistake here and corrected it in the second cell"
   ]
  },
  {
   "cell_type": "code",
   "execution_count": 8,
   "id": "594d4463",
   "metadata": {},
   "outputs": [],
   "source": [
    "name='Md Hamza Omer'"
   ]
  },
  {
   "cell_type": "code",
   "execution_count": 9,
   "id": "0fd51ab5",
   "metadata": {},
   "outputs": [
    {
     "ename": "NameError",
     "evalue": "name 'PRINT' is not defined",
     "output_type": "error",
     "traceback": [
      "\u001b[1;31m---------------------------------------------------------------------------\u001b[0m",
      "\u001b[1;31mNameError\u001b[0m                                 Traceback (most recent call last)",
      "\u001b[1;32m~\\AppData\\Local\\Temp/ipykernel_28256/3589670828.py\u001b[0m in \u001b[0;36m<module>\u001b[1;34m\u001b[0m\n\u001b[1;32m----> 1\u001b[1;33m \u001b[0mPRINT\u001b[0m\u001b[1;33m(\u001b[0m\u001b[0mname\u001b[0m\u001b[1;33m)\u001b[0m\u001b[1;33m\u001b[0m\u001b[1;33m\u001b[0m\u001b[0m\n\u001b[0m",
      "\u001b[1;31mNameError\u001b[0m: name 'PRINT' is not defined"
     ]
    }
   ],
   "source": [
    "PRINT(name)        #was just experimenting"
   ]
  },
  {
   "cell_type": "code",
   "execution_count": 10,
   "id": "79dff68c",
   "metadata": {},
   "outputs": [
    {
     "ename": "NameError",
     "evalue": "name 'NAME' is not defined",
     "output_type": "error",
     "traceback": [
      "\u001b[1;31m---------------------------------------------------------------------------\u001b[0m",
      "\u001b[1;31mNameError\u001b[0m                                 Traceback (most recent call last)",
      "\u001b[1;32m~\\AppData\\Local\\Temp/ipykernel_28256/1048088141.py\u001b[0m in \u001b[0;36m<module>\u001b[1;34m\u001b[0m\n\u001b[1;32m----> 1\u001b[1;33m \u001b[0mprint\u001b[0m\u001b[1;33m(\u001b[0m\u001b[0mNAME\u001b[0m\u001b[1;33m)\u001b[0m\u001b[1;33m\u001b[0m\u001b[1;33m\u001b[0m\u001b[0m\n\u001b[0m",
      "\u001b[1;31mNameError\u001b[0m: name 'NAME' is not defined"
     ]
    }
   ],
   "source": [
    "print(NAME)              #still experimenting"
   ]
  },
  {
   "cell_type": "code",
   "execution_count": 11,
   "id": "518b2bb2",
   "metadata": {},
   "outputs": [
    {
     "name": "stdout",
     "output_type": "stream",
     "text": [
      "Md Hamza Omer\n"
     ]
    }
   ],
   "source": [
    "print(name)               "
   ]
  },
  {
   "cell_type": "code",
   "execution_count": 12,
   "id": "ea5a9b56",
   "metadata": {},
   "outputs": [],
   "source": [
    "name1='MD HAMZA OMER'       #experimenting with adding number"
   ]
  },
  {
   "cell_type": "code",
   "execution_count": 13,
   "id": "a54aa08e",
   "metadata": {},
   "outputs": [
    {
     "name": "stdout",
     "output_type": "stream",
     "text": [
      "MD HAMZA OMER\n"
     ]
    }
   ],
   "source": [
    "print(name1)"
   ]
  },
  {
   "cell_type": "code",
   "execution_count": null,
   "id": "fb05eb32",
   "metadata": {},
   "outputs": [],
   "source": []
  },
  {
   "cell_type": "code",
   "execution_count": null,
   "id": "75b370d9",
   "metadata": {},
   "outputs": [],
   "source": [
    "#STRINGS"
   ]
  },
  {
   "cell_type": "code",
   "execution_count": 14,
   "id": "c1d6d422",
   "metadata": {},
   "outputs": [],
   "source": [
    "name='Ali'"
   ]
  },
  {
   "cell_type": "code",
   "execution_count": 15,
   "id": "48035865",
   "metadata": {},
   "outputs": [],
   "source": [
    "city=\"kolkata\""
   ]
  },
  {
   "cell_type": "code",
   "execution_count": 16,
   "id": "69311fe4",
   "metadata": {},
   "outputs": [],
   "source": [
    "dish=\"\"\"Biryani\"\"\""
   ]
  },
  {
   "cell_type": "code",
   "execution_count": 17,
   "id": "0b0aaca2",
   "metadata": {},
   "outputs": [
    {
     "name": "stdout",
     "output_type": "stream",
     "text": [
      "Biryani\n"
     ]
    }
   ],
   "source": [
    "print(dish)"
   ]
  },
  {
   "cell_type": "code",
   "execution_count": 18,
   "id": "47bc06b0",
   "metadata": {},
   "outputs": [
    {
     "name": "stdout",
     "output_type": "stream",
     "text": [
      "Ali\n"
     ]
    }
   ],
   "source": [
    "print(name)"
   ]
  },
  {
   "cell_type": "code",
   "execution_count": 19,
   "id": "6304fd31",
   "metadata": {},
   "outputs": [
    {
     "name": "stdout",
     "output_type": "stream",
     "text": [
      "kolkata\n"
     ]
    }
   ],
   "source": [
    "print(city)"
   ]
  },
  {
   "cell_type": "code",
   "execution_count": null,
   "id": "351b7209",
   "metadata": {},
   "outputs": [],
   "source": []
  }
 ],
 "metadata": {
  "kernelspec": {
   "display_name": "Python 3 (ipykernel)",
   "language": "python",
   "name": "python3"
  },
  "language_info": {
   "codemirror_mode": {
    "name": "ipython",
    "version": 3
   },
   "file_extension": ".py",
   "mimetype": "text/x-python",
   "name": "python",
   "nbconvert_exporter": "python",
   "pygments_lexer": "ipython3",
   "version": "3.9.7"
  }
 },
 "nbformat": 4,
 "nbformat_minor": 5
}
