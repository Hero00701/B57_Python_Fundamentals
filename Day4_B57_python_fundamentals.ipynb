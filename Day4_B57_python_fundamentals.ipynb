{
 "cells": [
  {
   "cell_type": "code",
   "execution_count": 1,
   "id": "5984597f",
   "metadata": {},
   "outputs": [],
   "source": [
    "students= ['hamza','saad','sarah','mubashir','yasir']"
   ]
  },
  {
   "cell_type": "code",
   "execution_count": 2,
   "id": "187981b1",
   "metadata": {},
   "outputs": [
    {
     "name": "stdout",
     "output_type": "stream",
     "text": [
      "['hamza', 'saad', 'sarah', 'mubashir', 'yasir']\n"
     ]
    }
   ],
   "source": [
    "print(students)"
   ]
  },
  {
   "cell_type": "code",
   "execution_count": null,
   "id": "03bd08fd",
   "metadata": {},
   "outputs": [],
   "source": []
  },
  {
   "cell_type": "code",
   "execution_count": 3,
   "id": "0cb5c665",
   "metadata": {},
   "outputs": [
    {
     "data": {
      "text/plain": [
       "list"
      ]
     },
     "execution_count": 3,
     "metadata": {},
     "output_type": "execute_result"
    }
   ],
   "source": [
    "type(students)"
   ]
  },
  {
   "cell_type": "code",
   "execution_count": null,
   "id": "fab286bf",
   "metadata": {},
   "outputs": [],
   "source": [
    "# Q:Access hamza name from the list"
   ]
  },
  {
   "cell_type": "code",
   "execution_count": 4,
   "id": "55510874",
   "metadata": {},
   "outputs": [
    {
     "name": "stdout",
     "output_type": "stream",
     "text": [
      "hamza\n"
     ]
    }
   ],
   "source": [
    "print(students[0])"
   ]
  },
  {
   "cell_type": "code",
   "execution_count": 5,
   "id": "c445f8f6",
   "metadata": {},
   "outputs": [],
   "source": [
    "students.append('ali')"
   ]
  },
  {
   "cell_type": "code",
   "execution_count": 6,
   "id": "d57616de",
   "metadata": {},
   "outputs": [
    {
     "name": "stdout",
     "output_type": "stream",
     "text": [
      "['hamza', 'saad', 'sarah', 'mubashir', 'yasir', 'ali']\n"
     ]
    }
   ],
   "source": [
    "print(students)"
   ]
  },
  {
   "cell_type": "code",
   "execution_count": null,
   "id": "7fb9921f",
   "metadata": {},
   "outputs": [],
   "source": [
    "#observation-1: Using append() the data is added to the end of the list"
   ]
  },
  {
   "cell_type": "code",
   "execution_count": 16,
   "id": "2d1179f3",
   "metadata": {},
   "outputs": [],
   "source": [
    "students.append('zara')"
   ]
  },
  {
   "cell_type": "code",
   "execution_count": null,
   "id": "2f4be60a",
   "metadata": {},
   "outputs": [],
   "source": [
    "#observation-2: .append() takes only one data"
   ]
  },
  {
   "cell_type": "code",
   "execution_count": 9,
   "id": "2b28674a",
   "metadata": {},
   "outputs": [
    {
     "ename": "AttributeError",
     "evalue": "'NoneType' object has no attribute 'append'",
     "output_type": "error",
     "traceback": [
      "\u001b[1;31m---------------------------------------------------------------------------\u001b[0m",
      "\u001b[1;31mAttributeError\u001b[0m                            Traceback (most recent call last)",
      "\u001b[1;32m~\\AppData\\Local\\Temp/ipykernel_30500/2380118685.py\u001b[0m in \u001b[0;36m<module>\u001b[1;34m\u001b[0m\n\u001b[1;32m----> 1\u001b[1;33m \u001b[0mstudents\u001b[0m\u001b[1;33m.\u001b[0m\u001b[0mappend\u001b[0m\u001b[1;33m(\u001b[0m\u001b[1;34m'eman'\u001b[0m\u001b[1;33m)\u001b[0m\u001b[1;33m.\u001b[0m\u001b[0mappend\u001b[0m\u001b[1;33m(\u001b[0m\u001b[1;34m'dawood'\u001b[0m\u001b[1;33m)\u001b[0m\u001b[1;33m.\u001b[0m\u001b[0mappend\u001b[0m\u001b[1;33m(\u001b[0m\u001b[1;34m'abdullah'\u001b[0m\u001b[1;33m)\u001b[0m\u001b[1;33m.\u001b[0m\u001b[0mappend\u001b[0m\u001b[1;33m(\u001b[0m\u001b[1;34m'mariam'\u001b[0m\u001b[1;33m)\u001b[0m\u001b[1;33m\u001b[0m\u001b[1;33m\u001b[0m\u001b[0m\n\u001b[0m",
      "\u001b[1;31mAttributeError\u001b[0m: 'NoneType' object has no attribute 'append'"
     ]
    }
   ],
   "source": [
    "students.append('eman').append('dawood').append('abdullah').append('mariam')\n",
    "#observation-3: .append() cannot be used more than one time in a single line"
   ]
  },
  {
   "cell_type": "code",
   "execution_count": 10,
   "id": "399e79f8",
   "metadata": {},
   "outputs": [],
   "source": [
    "students.append('eman')"
   ]
  },
  {
   "cell_type": "code",
   "execution_count": 11,
   "id": "5ce45d80",
   "metadata": {},
   "outputs": [],
   "source": [
    "students.append('dawood')"
   ]
  },
  {
   "cell_type": "code",
   "execution_count": 12,
   "id": "8b725272",
   "metadata": {},
   "outputs": [
    {
     "ename": "AttributeError",
     "evalue": "'NoneType' object has no attribute 'append'",
     "output_type": "error",
     "traceback": [
      "\u001b[1;31m---------------------------------------------------------------------------\u001b[0m",
      "\u001b[1;31mAttributeError\u001b[0m                            Traceback (most recent call last)",
      "\u001b[1;32m~\\AppData\\Local\\Temp/ipykernel_30500/682006134.py\u001b[0m in \u001b[0;36m<module>\u001b[1;34m\u001b[0m\n\u001b[1;32m----> 1\u001b[1;33m \u001b[0mstudents\u001b[0m\u001b[1;33m.\u001b[0m\u001b[0mappend\u001b[0m\u001b[1;33m(\u001b[0m\u001b[1;34m'abdullah'\u001b[0m\u001b[1;33m)\u001b[0m\u001b[1;33m.\u001b[0m\u001b[0mappend\u001b[0m\u001b[1;33m(\u001b[0m\u001b[1;34m'mariam'\u001b[0m\u001b[1;33m)\u001b[0m\u001b[1;33m\u001b[0m\u001b[1;33m\u001b[0m\u001b[0m\n\u001b[0m",
      "\u001b[1;31mAttributeError\u001b[0m: 'NoneType' object has no attribute 'append'"
     ]
    }
   ],
   "source": [
    "students.append('abdullah').append('mariam') #experimenting again to make sure"
   ]
  },
  {
   "cell_type": "code",
   "execution_count": 13,
   "id": "077dbcaf",
   "metadata": {},
   "outputs": [],
   "source": [
    "students.append('abdullah')"
   ]
  },
  {
   "cell_type": "code",
   "execution_count": 14,
   "id": "1256b216",
   "metadata": {},
   "outputs": [],
   "source": [
    "students.append('mariam')"
   ]
  },
  {
   "cell_type": "code",
   "execution_count": 17,
   "id": "1466acf5",
   "metadata": {},
   "outputs": [
    {
     "name": "stdout",
     "output_type": "stream",
     "text": [
      "['hamza', 'saad', 'sarah', 'mubashir', 'yasir', 'ali', 'eman', 'eman', 'dawood', 'abdullah', 'abdullah', 'mariam', 'zara']\n"
     ]
    }
   ],
   "source": [
    "print(students)"
   ]
  },
  {
   "cell_type": "code",
   "execution_count": 19,
   "id": "6ccaafd9",
   "metadata": {},
   "outputs": [],
   "source": [
    "students.insert(3,'zara')"
   ]
  },
  {
   "cell_type": "code",
   "execution_count": 20,
   "id": "a472c41e",
   "metadata": {},
   "outputs": [
    {
     "name": "stdout",
     "output_type": "stream",
     "text": [
      "['hamza', 'saad', 'sarah', 'zara', 'mubashir', 'yasir', 'ali', 'eman', 'eman', 'dawood', 'abdullah', 'abdullah', 'mariam', 'zara']\n"
     ]
    }
   ],
   "source": [
    "print(students)"
   ]
  },
  {
   "cell_type": "code",
   "execution_count": 21,
   "id": "9e88a638",
   "metadata": {},
   "outputs": [],
   "source": [
    "students[3]='saram'"
   ]
  },
  {
   "cell_type": "code",
   "execution_count": 22,
   "id": "608843e3",
   "metadata": {},
   "outputs": [
    {
     "name": "stdout",
     "output_type": "stream",
     "text": [
      "['hamza', 'saad', 'sarah', 'saram', 'mubashir', 'yasir', 'ali', 'eman', 'eman', 'dawood', 'abdullah', 'abdullah', 'mariam', 'zara']\n"
     ]
    }
   ],
   "source": [
    "print(students)"
   ]
  },
  {
   "cell_type": "code",
   "execution_count": 24,
   "id": "de809089",
   "metadata": {},
   "outputs": [],
   "source": [
    "students[2]='saram'"
   ]
  },
  {
   "cell_type": "code",
   "execution_count": 25,
   "id": "17ee5543",
   "metadata": {},
   "outputs": [
    {
     "name": "stdout",
     "output_type": "stream",
     "text": [
      "['hamza', 'saad', 'saram', 'saram', 'mubashir', 'yasir', 'ali', 'eman', 'eman', 'dawood', 'abdullah', 'abdullah', 'mariam', 'zara']\n"
     ]
    }
   ],
   "source": [
    "print(students)"
   ]
  },
  {
   "cell_type": "code",
   "execution_count": 26,
   "id": "3a5be7a8",
   "metadata": {},
   "outputs": [],
   "source": [
    "students[3]='zara'"
   ]
  },
  {
   "cell_type": "code",
   "execution_count": 27,
   "id": "7718f6cc",
   "metadata": {},
   "outputs": [
    {
     "name": "stdout",
     "output_type": "stream",
     "text": [
      "['hamza', 'saad', 'saram', 'zara', 'mubashir', 'yasir', 'ali', 'eman', 'eman', 'dawood', 'abdullah', 'abdullah', 'mariam', 'zara']\n"
     ]
    }
   ],
   "source": [
    "print(students)"
   ]
  },
  {
   "cell_type": "code",
   "execution_count": 28,
   "id": "ead88d78",
   "metadata": {},
   "outputs": [
    {
     "name": "stdout",
     "output_type": "stream",
     "text": [
      "['hamza', 'saad', 'saram', 'zara', 'mubashir', 'yasir', 'ali', 'eman', 'eman', 'dawood', 'abdullah', 'abdullah', 'mariam', 'zara']\n"
     ]
    }
   ],
   "source": [
    "print                                      (students)        #observation-4: the paranthesis need not be attatched to the fuction"
   ]
  },
  {
   "cell_type": "code",
   "execution_count": 29,
   "id": "dbaff9dc",
   "metadata": {},
   "outputs": [
    {
     "ename": "NameError",
     "evalue": "name 'delstudents' is not defined",
     "output_type": "error",
     "traceback": [
      "\u001b[1;31m---------------------------------------------------------------------------\u001b[0m",
      "\u001b[1;31mNameError\u001b[0m                                 Traceback (most recent call last)",
      "\u001b[1;32m~\\AppData\\Local\\Temp/ipykernel_30500/432885260.py\u001b[0m in \u001b[0;36m<module>\u001b[1;34m\u001b[0m\n\u001b[1;32m----> 1\u001b[1;33m \u001b[0mdelstudents\u001b[0m\u001b[1;33m[\u001b[0m\u001b[1;36m7\u001b[0m\u001b[1;33m]\u001b[0m\u001b[1;33m\u001b[0m\u001b[1;33m\u001b[0m\u001b[0m\n\u001b[0m",
      "\u001b[1;31mNameError\u001b[0m: name 'delstudents' is not defined"
     ]
    }
   ],
   "source": [
    "delstudents[7]"
   ]
  },
  {
   "cell_type": "code",
   "execution_count": null,
   "id": "78d91e02",
   "metadata": {},
   "outputs": [],
   "source": [
    "#observation-5: del fuction require a space to work"
   ]
  },
  {
   "cell_type": "code",
   "execution_count": 30,
   "id": "ae74465b",
   "metadata": {},
   "outputs": [],
   "source": [
    "del students[7]"
   ]
  },
  {
   "cell_type": "code",
   "execution_count": 31,
   "id": "b4dd28aa",
   "metadata": {},
   "outputs": [
    {
     "name": "stdout",
     "output_type": "stream",
     "text": [
      "['hamza', 'saad', 'saram', 'zara', 'mubashir', 'yasir', 'ali', 'eman', 'dawood', 'abdullah', 'abdullah', 'mariam', 'zara']\n"
     ]
    }
   ],
   "source": [
    "print(students)"
   ]
  },
  {
   "cell_type": "code",
   "execution_count": 32,
   "id": "f1e1db1e",
   "metadata": {},
   "outputs": [],
   "source": [
    "students[2]='sarah'"
   ]
  },
  {
   "cell_type": "code",
   "execution_count": 33,
   "id": "7ce2a6a6",
   "metadata": {},
   "outputs": [],
   "source": [
    "del students[12]"
   ]
  },
  {
   "cell_type": "code",
   "execution_count": 34,
   "id": "315bfd36",
   "metadata": {},
   "outputs": [
    {
     "name": "stdout",
     "output_type": "stream",
     "text": [
      "['hamza', 'saad', 'sarah', 'zara', 'mubashir', 'yasir', 'ali', 'eman', 'dawood', 'abdullah', 'abdullah', 'mariam']\n"
     ]
    }
   ],
   "source": [
    "print(students)"
   ]
  },
  {
   "cell_type": "code",
   "execution_count": 35,
   "id": "7adf0554",
   "metadata": {},
   "outputs": [
    {
     "ename": "AttributeError",
     "evalue": "'NoneType' object has no attribute 'append'",
     "output_type": "error",
     "traceback": [
      "\u001b[1;31m---------------------------------------------------------------------------\u001b[0m",
      "\u001b[1;31mAttributeError\u001b[0m                            Traceback (most recent call last)",
      "\u001b[1;32m~\\AppData\\Local\\Temp/ipykernel_30500/682006134.py\u001b[0m in \u001b[0;36m<module>\u001b[1;34m\u001b[0m\n\u001b[1;32m----> 1\u001b[1;33m \u001b[0mstudents\u001b[0m\u001b[1;33m.\u001b[0m\u001b[0mappend\u001b[0m\u001b[1;33m(\u001b[0m\u001b[1;34m'abdullah'\u001b[0m\u001b[1;33m)\u001b[0m\u001b[1;33m.\u001b[0m\u001b[0mappend\u001b[0m\u001b[1;33m(\u001b[0m\u001b[1;34m'mariam'\u001b[0m\u001b[1;33m)\u001b[0m\u001b[1;33m\u001b[0m\u001b[1;33m\u001b[0m\u001b[0m\n\u001b[0m",
      "\u001b[1;31mAttributeError\u001b[0m: 'NoneType' object has no attribute 'append'"
     ]
    }
   ],
   "source": [
    "students.append('abdullah').append('mariam')"
   ]
  },
  {
   "cell_type": "code",
   "execution_count": 36,
   "id": "2932a56d",
   "metadata": {},
   "outputs": [
    {
     "name": "stdout",
     "output_type": "stream",
     "text": [
      "['hamza', 'saad', 'sarah', 'zara', 'mubashir', 'yasir', 'ali', 'eman', 'dawood', 'abdullah', 'abdullah', 'mariam', 'abdullah']\n"
     ]
    }
   ],
   "source": [
    "print(students)"
   ]
  },
  {
   "cell_type": "code",
   "execution_count": null,
   "id": "c312e233",
   "metadata": {},
   "outputs": [],
   "source": [
    "####(critical) observation-6:even though the multiple append program had shown an error, it still add the name of the first append student"
   ]
  }
 ],
 "metadata": {
  "kernelspec": {
   "display_name": "Python 3 (ipykernel)",
   "language": "python",
   "name": "python3"
  },
  "language_info": {
   "codemirror_mode": {
    "name": "ipython",
    "version": 3
   },
   "file_extension": ".py",
   "mimetype": "text/x-python",
   "name": "python",
   "nbconvert_exporter": "python",
   "pygments_lexer": "ipython3",
   "version": "3.9.7"
  }
 },
 "nbformat": 4,
 "nbformat_minor": 5
}
