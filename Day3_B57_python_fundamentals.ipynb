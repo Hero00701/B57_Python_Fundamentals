{
 "cells": [
  {
   "cell_type": "code",
   "execution_count": null,
   "id": "3db20dc5",
   "metadata": {},
   "outputs": [],
   "source": [
    "#Strings"
   ]
  },
  {
   "cell_type": "code",
   "execution_count": 3,
   "id": "6a116e5f",
   "metadata": {},
   "outputs": [],
   "source": [
    "full_name='md hamza omer'"
   ]
  },
  {
   "cell_type": "code",
   "execution_count": 4,
   "id": "70c7f62e",
   "metadata": {},
   "outputs": [
    {
     "name": "stdout",
     "output_type": "stream",
     "text": [
      "md hamza omer\n"
     ]
    }
   ],
   "source": [
    "print(full_name)"
   ]
  },
  {
   "cell_type": "code",
   "execution_count": null,
   "id": "f2ea5147",
   "metadata": {},
   "outputs": [],
   "source": []
  },
  {
   "cell_type": "code",
   "execution_count": 5,
   "id": "5b704566",
   "metadata": {},
   "outputs": [
    {
     "name": "stdout",
     "output_type": "stream",
     "text": [
      "Md Hamza Omer\n"
     ]
    }
   ],
   "source": [
    "print(full_name.title())              # the first letters are changed to uppercase"
   ]
  },
  {
   "cell_type": "code",
   "execution_count": 6,
   "id": "8115d539",
   "metadata": {},
   "outputs": [
    {
     "name": "stdout",
     "output_type": "stream",
     "text": [
      "MD HAMZA OMER\n"
     ]
    }
   ],
   "source": [
    "print(full_name.upper())             #fullname in uppercase letters"
   ]
  },
  {
   "cell_type": "code",
   "execution_count": 7,
   "id": "cd571404",
   "metadata": {},
   "outputs": [
    {
     "name": "stdout",
     "output_type": "stream",
     "text": [
      "md hamza omer\n"
     ]
    }
   ],
   "source": [
    "print(full_name.lower())             # fullname in lower case letters"
   ]
  },
  {
   "cell_type": "code",
   "execution_count": 9,
   "id": "01d0f27c",
   "metadata": {},
   "outputs": [
    {
     "data": {
      "text/plain": [
       "str"
      ]
     },
     "execution_count": 9,
     "metadata": {},
     "output_type": "execute_result"
    }
   ],
   "source": [
    "type(full_name)                     #it helps to identify data type"
   ]
  },
  {
   "cell_type": "code",
   "execution_count": null,
   "id": "76619411",
   "metadata": {},
   "outputs": [],
   "source": []
  },
  {
   "cell_type": "code",
   "execution_count": null,
   "id": "d779571d",
   "metadata": {},
   "outputs": [],
   "source": [
    "# f-strings"
   ]
  },
  {
   "cell_type": "code",
   "execution_count": 10,
   "id": "37d22c8b",
   "metadata": {},
   "outputs": [],
   "source": [
    "firstname= 'md hamza'\n",
    "lastname= 'omer'"
   ]
  },
  {
   "cell_type": "code",
   "execution_count": 15,
   "id": "3593c782",
   "metadata": {},
   "outputs": [],
   "source": [
    "fullname= f\"{firstname} {lastname}\""
   ]
  },
  {
   "cell_type": "code",
   "execution_count": 16,
   "id": "343803ee",
   "metadata": {},
   "outputs": [
    {
     "name": "stdout",
     "output_type": "stream",
     "text": [
      "md hamza omer\n"
     ]
    }
   ],
   "source": [
    "print(fullname)"
   ]
  },
  {
   "cell_type": "code",
   "execution_count": 20,
   "id": "99477e44",
   "metadata": {},
   "outputs": [],
   "source": [
    "message= f\"you're gonna be successful one day and be thankful for all the hardwork you did,{fullname.title()}\""
   ]
  },
  {
   "cell_type": "code",
   "execution_count": 21,
   "id": "ff55a6b1",
   "metadata": {},
   "outputs": [
    {
     "name": "stdout",
     "output_type": "stream",
     "text": [
      "you're gonna be successful one day and be thankful for all the hardwork you did,Md Hamza Omer\n"
     ]
    }
   ],
   "source": [
    "print(message)"
   ]
  },
  {
   "cell_type": "code",
   "execution_count": 22,
   "id": "c3f171f5",
   "metadata": {},
   "outputs": [],
   "source": [
    "message= f\"you're gonna be successful one day and be thankful for all the hardwork you did,{fullname.upper()}\""
   ]
  },
  {
   "cell_type": "code",
   "execution_count": 23,
   "id": "4e59ffb6",
   "metadata": {},
   "outputs": [
    {
     "name": "stdout",
     "output_type": "stream",
     "text": [
      "you're gonna be successful one day and be thankful for all the hardwork you did,MD HAMZA OMER\n"
     ]
    }
   ],
   "source": [
    "print(message)"
   ]
  },
  {
   "cell_type": "code",
   "execution_count": 24,
   "id": "355ac89b",
   "metadata": {},
   "outputs": [
    {
     "name": "stdout",
     "output_type": "stream",
     "text": [
      "favourite sports\n"
     ]
    }
   ],
   "source": [
    "print('favourite sports')"
   ]
  },
  {
   "cell_type": "code",
   "execution_count": 25,
   "id": "56e6f662",
   "metadata": {},
   "outputs": [
    {
     "name": "stdout",
     "output_type": "stream",
     "text": [
      "favourite sports=football\n",
      "\t\tcricket\n",
      "\t\thockey\n",
      "\t\ttennis\n"
     ]
    }
   ],
   "source": [
    "print('favourite sports=football\\n\\t\\tcricket\\n\\t\\thockey\\n\\t\\ttennis')       \n",
    "#observation 1=\\n\\t\\t for next line and double tab\n",
    "#\\t---tab dilimeter  \n",
    "#\\n---next line dilimeter"
   ]
  },
  {
   "cell_type": "code",
   "execution_count": 26,
   "id": "56bc0f9e",
   "metadata": {},
   "outputs": [],
   "source": [
    "name5='                md hamza omer'"
   ]
  },
  {
   "cell_type": "code",
   "execution_count": 27,
   "id": "a6bd324d",
   "metadata": {},
   "outputs": [
    {
     "data": {
      "text/plain": [
       "'md hamza omer'"
      ]
     },
     "execution_count": 27,
     "metadata": {},
     "output_type": "execute_result"
    }
   ],
   "source": [
    "name5.strip()"
   ]
  },
  {
   "cell_type": "code",
   "execution_count": 28,
   "id": "2fe56f9f",
   "metadata": {},
   "outputs": [],
   "source": [
    "name5='                md         hamza        omer'"
   ]
  },
  {
   "cell_type": "code",
   "execution_count": 29,
   "id": "33a8cbb9",
   "metadata": {},
   "outputs": [
    {
     "name": "stdout",
     "output_type": "stream",
     "text": [
      "                md         hamza        omer\n"
     ]
    }
   ],
   "source": [
    "print(name5)"
   ]
  },
  {
   "cell_type": "code",
   "execution_count": 30,
   "id": "f1cf971f",
   "metadata": {},
   "outputs": [
    {
     "data": {
      "text/plain": [
       "'md         hamza        omer'"
      ]
     },
     "execution_count": 30,
     "metadata": {},
     "output_type": "execute_result"
    }
   ],
   "source": [
    "name5.strip()"
   ]
  },
  {
   "cell_type": "code",
   "execution_count": null,
   "id": "01e62424",
   "metadata": {},
   "outputs": [],
   "source": [
    "#observation 2= strip() doesn't remove the whitespaces between written words"
   ]
  },
  {
   "cell_type": "code",
   "execution_count": 32,
   "id": "79d57160",
   "metadata": {},
   "outputs": [
    {
     "data": {
      "text/plain": [
       "'MD         HAMZA        OMER'"
      ]
     },
     "execution_count": 32,
     "metadata": {},
     "output_type": "execute_result"
    }
   ],
   "source": [
    "name5.strip().upper()"
   ]
  },
  {
   "cell_type": "code",
   "execution_count": 33,
   "id": "09dfcf45",
   "metadata": {},
   "outputs": [
    {
     "data": {
      "text/plain": [
       "'Md         Hamza        Omer'"
      ]
     },
     "execution_count": 33,
     "metadata": {},
     "output_type": "execute_result"
    }
   ],
   "source": [
    "name5.strip().title()"
   ]
  },
  {
   "cell_type": "code",
   "execution_count": null,
   "id": "fd1b3ed9",
   "metadata": {},
   "outputs": [],
   "source": [
    "#observation 3= we can add more functions after '.' "
   ]
  },
  {
   "cell_type": "code",
   "execution_count": 34,
   "id": "3ef30eaa",
   "metadata": {},
   "outputs": [
    {
     "data": {
      "text/plain": [
       "str"
      ]
     },
     "execution_count": 34,
     "metadata": {},
     "output_type": "execute_result"
    }
   ],
   "source": [
    "type(name5.strip().title())"
   ]
  },
  {
   "cell_type": "code",
   "execution_count": null,
   "id": "a80deb35",
   "metadata": {},
   "outputs": [],
   "source": []
  }
 ],
 "metadata": {
  "kernelspec": {
   "display_name": "Python 3 (ipykernel)",
   "language": "python",
   "name": "python3"
  },
  "language_info": {
   "codemirror_mode": {
    "name": "ipython",
    "version": 3
   },
   "file_extension": ".py",
   "mimetype": "text/x-python",
   "name": "python",
   "nbconvert_exporter": "python",
   "pygments_lexer": "ipython3",
   "version": "3.9.7"
  }
 },
 "nbformat": 4,
 "nbformat_minor": 5
}
